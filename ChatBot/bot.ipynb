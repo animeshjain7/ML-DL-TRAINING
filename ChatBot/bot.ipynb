{
 "cells": [
  {
   "cell_type": "code",
   "execution_count": 1,
   "metadata": {},
   "outputs": [],
   "source": [
    "import nltk\n",
    "from nltk.chat.util import Chat"
   ]
  },
  {
   "cell_type": "code",
   "execution_count": 2,
   "metadata": {},
   "outputs": [],
   "source": [
    "#Rules for chat\n",
    "rules = [\n",
    "    (r\"hello\",[\"hi\",\"hello\"]),\n",
    "    (r\"ac is not working\",[\"pankha chalao\",\"sorry i cant control weather\"])\n",
    "]"
   ]
  },
  {
   "attachments": {},
   "cell_type": "markdown",
   "metadata": {},
   "source": []
  },
  {
   "cell_type": "code",
   "execution_count": 3,
   "metadata": {},
   "outputs": [
    {
     "name": "stdout",
     "output_type": "stream",
     "text": [
      "Questions hello\n",
      "Answer\n",
      "\t hi\n",
      "\t hello\n",
      "Questions ac is not working\n",
      "Answer\n",
      "\t pankha chalao\n",
      "\t sorry i cant control weather\n"
     ]
    }
   ],
   "source": [
    "for q,a in rules:\n",
    "    print(\"Questions\",q)\n",
    "    print(\"Answer\")\n",
    "    for ans in a:\n",
    "        print(\"\\t\",ans)"
   ]
  },
  {
   "cell_type": "code",
   "execution_count": 4,
   "metadata": {},
   "outputs": [],
   "source": [
    "cb = Chat(rules)\n"
   ]
  },
  {
   "cell_type": "code",
   "execution_count": 5,
   "metadata": {},
   "outputs": [
    {
     "data": {
      "text/plain": [
       "'hi'"
      ]
     },
     "execution_count": 5,
     "metadata": {},
     "output_type": "execute_result"
    }
   ],
   "source": [
    "cb.respond(\"hello\")"
   ]
  },
  {
   "cell_type": "code",
   "execution_count": null,
   "metadata": {},
   "outputs": [],
   "source": [
    "# cb.converse()\n",
    "#do not run this"
   ]
  },
  {
   "cell_type": "code",
   "execution_count": null,
   "metadata": {},
   "outputs": [],
   "source": [
    "import pyttsx3\n",
    "import speech_recognition as sr\n",
    "import nltk\n",
    "from nltk.chat.util import Chat\n",
    "\n",
    "\n",
    "#Rules for chat\n",
    "rules = [\n",
    "    (r\"hello\",[\"hi\",\"hello\"]),\n",
    "    (r\"ac is not working\",[\"pankha chalao\",\"sorry i cant control weather\"])\n",
    "]\n",
    "cb = Chat(rules)\n",
    "\n",
    "spEng = pyttsx3.init()\n",
    "spEng.setProperty('rate',150)\n",
    "recognizer = sr.Recognizer()\n",
    "with sr.Microphone() as mic:\n",
    "    print('say:',end=' ')\n",
    "    audio = recognizer.listen(mic,timeout=1,phrase_time_limit=2)\n",
    "    try:\n",
    "        text = recognizer.recognize_google(audio)\n",
    "        print(text)\n",
    "        resp = cb.respond(text)\n",
    "        print(resp)\n",
    "        spEng.say(resp)\n",
    "        spEng.runAndWait()\n",
    "    except Exception as err:\n",
    "        print(\"\\n culd nt recgniz\")\n"
   ]
  },
  {
   "cell_type": "code",
   "execution_count": null,
   "metadata": {},
   "outputs": [],
   "source": [
    "voices = spEng.getProperty('voices')\n",
    "voice = voices[1]\n"
   ]
  },
  {
   "cell_type": "code",
   "execution_count": null,
   "metadata": {},
   "outputs": [],
   "source": [
    "for voice in voices:\n",
    "    print('voices:')\n",
    "    print(\"id:\",voice.id)\n",
    "    print(\"languages:\",voice.languages)\n",
    "    print(\"name:\",voice.name)\n",
    "    print(\"age:\",voice.age)\n",
    "    print(\"gender:\",voice.gender)"
   ]
  },
  {
   "cell_type": "code",
   "execution_count": null,
   "metadata": {},
   "outputs": [],
   "source": [
    "voiceid = voices[1].id"
   ]
  },
  {
   "cell_type": "code",
   "execution_count": null,
   "metadata": {},
   "outputs": [],
   "source": [
    "spEng.setProperty('voice',voiceid)"
   ]
  },
  {
   "cell_type": "code",
   "execution_count": 16,
   "metadata": {},
   "outputs": [
    {
     "name": "stdout",
     "output_type": "stream",
     "text": [
      "start\n",
      "hi guys\n",
      "stop\n"
     ]
    }
   ],
   "source": [
    "def decorator(fun):\n",
    "    def wrapper():\n",
    "        print('start')\n",
    "        fun()\n",
    "        print('stop')\n",
    "    return wrapper\n",
    "\n",
    "@decorator\n",
    "def hello():\n",
    "    print('hi guys')\n",
    "\n",
    "hello()"
   ]
  },
  {
   "cell_type": "code",
   "execution_count": null,
   "metadata": {},
   "outputs": [],
   "source": []
  }
 ],
 "metadata": {
  "kernelspec": {
   "display_name": "base",
   "language": "python",
   "name": "python3"
  },
  "language_info": {
   "codemirror_mode": {
    "name": "ipython",
    "version": 3
   },
   "file_extension": ".py",
   "mimetype": "text/x-python",
   "name": "python",
   "nbconvert_exporter": "python",
   "pygments_lexer": "ipython3",
   "version": "3.9.13"
  },
  "orig_nbformat": 4
 },
 "nbformat": 4,
 "nbformat_minor": 2
}
