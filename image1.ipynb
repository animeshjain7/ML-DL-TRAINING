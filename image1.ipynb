{
 "cells": [
  {
   "cell_type": "code",
   "execution_count": null,
   "metadata": {},
   "outputs": [],
   "source": [
    "import cv2\n",
    "import face_recognition as fr\n",
    "import pandas as pd\n",
    "\n",
    "vid = cv2.VideoCapture(0)\n",
    "fd = cv2.CascadeClassifier(cv2.data.haarcascades+'haarcascade_frontalface_default.xml')\n",
    "\n",
    "names = []\n",
    "enc = []\n",
    "\n",
    "frame_count = 0\n",
    "frame_limit = 5\n",
    "name = input(\"name input\")\n",
    "notCaptured = True\n",
    "while True:\n",
    "    flag,img = vid.read()\n",
    "    if flag:\n",
    "        faces = fd.detectMultiScale(\n",
    "            cv2.cvtColor(img,cv2.COLOR_BGR2GRAY),scaleFactor=1.1,minNeighbors=5,minSize=(50,50))\n",
    "        if len(faces) ==1:\n",
    "            x,y,w,h = faces[0]\n",
    "            img_face = img[y:y+h,x:x+w,:].copy()\n",
    "            img_face = cv2.resize(img_face,(400,400),interpolation=cv2.INTER_CUBIC)\n",
    "            face_encoding = fr.face_encodings(img_face) \n",
    "            if len(face_encoding) == 1:\n",
    "                enc.append(face_encoding[0])\n",
    "                names.append(name)\n",
    "                frame_count+=1\n",
    "                if frame_count==frame_limit:\n",
    "                    data = {'name':names , 'encoding':enc}\n",
    "                    pd.DataFrame(data).to_csv('faces_data.csv')\n",
    "                    break\n",
    "        cv2.imshow('preview',img)\n",
    "        key = cv2.waitKey(1)\n",
    "        if key == ord('q'):\n",
    "            break\n",
    "cv2.destroyAllWindows()\n",
    "vid.release()"
   ]
  }
 ],
 "metadata": {
  "language_info": {
   "name": "python"
  },
  "orig_nbformat": 4
 },
 "nbformat": 4,
 "nbformat_minor": 2
}
