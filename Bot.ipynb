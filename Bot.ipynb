{
 "cells": [
  {
   "cell_type": "code",
   "execution_count": 17,
   "metadata": {},
   "outputs": [],
   "source": [
    "import nltk\n",
    "from nltk.chat.util import Chat"
   ]
  },
  {
   "cell_type": "code",
   "execution_count": 18,
   "metadata": {},
   "outputs": [],
   "source": [
    "#Rules for chat\n",
    "rules = [\n",
    "    (r\"hello\",[\"hi\",\"hello\"]),\n",
    "    (r\"ac is not working\",[\"pankha chalao\",\"sorry i cant control weather\"])\n",
    "]"
   ]
  },
  {
   "cell_type": "code",
   "execution_count": 19,
   "metadata": {},
   "outputs": [
    {
     "name": "stdout",
     "output_type": "stream",
     "text": [
      "Questions hello\n",
      "Answer\n",
      "\t hi\n",
      "\t hello\n",
      "Questions ac is not working\n",
      "Answer\n",
      "\t pankha chalao\n",
      "\t sorry i cant control weather\n"
     ]
    }
   ],
   "source": [
    "for q,a in rules:\n",
    "    print(\"Questions\",q)\n",
    "    print(\"Answer\")\n",
    "    for ans in a:\n",
    "        print(\"\\t\",ans)"
   ]
  },
  {
   "cell_type": "code",
   "execution_count": 20,
   "metadata": {},
   "outputs": [],
   "source": [
    "cb = Chat(rules)\n"
   ]
  },
  {
   "cell_type": "code",
   "execution_count": 21,
   "metadata": {},
   "outputs": [
    {
     "data": {
      "text/plain": [
       "'hi'"
      ]
     },
     "execution_count": 21,
     "metadata": {},
     "output_type": "execute_result"
    }
   ],
   "source": [
    "cb.respond(\"hello\")"
   ]
  },
  {
   "cell_type": "code",
   "execution_count": 1,
   "metadata": {},
   "outputs": [],
   "source": [
    "# cb.converse()\n",
    "#do not run this"
   ]
  },
  {
   "attachments": {},
   "cell_type": "markdown",
   "metadata": {},
   "source": [
    "# ChatBot ON Specific Rules"
   ]
  },
  {
   "cell_type": "code",
   "execution_count": 30,
   "metadata": {},
   "outputs": [
    {
     "name": "stdout",
     "output_type": "stream",
     "text": [
      "say: hello\n",
      "hi\n"
     ]
    }
   ],
   "source": [
    "import pyttsx3\n",
    "import speech_recognition as sr\n",
    "import nltk\n",
    "from nltk.chat.util import Chat\n",
    "\n",
    "\n",
    "#Rules for chat\n",
    "rules = [\n",
    "    (r\"hello\",[\"hi\",\"hello\"]),\n",
    "    (r\"ac is not working\",[\"pankha chalao\",\"sorry i cant control weather\"])\n",
    "]\n",
    "cb = Chat(rules)\n",
    "\n",
    "spEng = pyttsx3.init()\n",
    "spEng.setProperty('rate',150)\n",
    "recognizer = sr.Recognizer()\n",
    "with sr.Microphone() as mic:\n",
    "    print('say:',end=' ')\n",
    "    audio = recognizer.listen(mic,timeout=1,phrase_time_limit=2)\n",
    "    try:\n",
    "        text = recognizer.recognize_google(audio)\n",
    "        print(text)\n",
    "        resp = cb.respond(text)\n",
    "        print(resp)\n",
    "        spEng.say(resp)\n",
    "        spEng.runAndWait()\n",
    "    except Exception as err:\n",
    "        print(\"\\n culd nt recgniz\")\n"
   ]
  },
  {
   "cell_type": "code",
   "execution_count": 25,
   "metadata": {},
   "outputs": [],
   "source": [
    "voices = spEng.getProperty('voices')\n",
    "voice = voices[1]\n"
   ]
  },
  {
   "cell_type": "code",
   "execution_count": 26,
   "metadata": {},
   "outputs": [
    {
     "name": "stdout",
     "output_type": "stream",
     "text": [
      "HKEY_LOCAL_MACHINE\\SOFTWARE\\Microsoft\\Speech\\Voices\\Tokens\\TTS_MS_EN-US_ZIRA_11.0\n"
     ]
    }
   ],
   "source": [
    "print(voice.id)"
   ]
  },
  {
   "cell_type": "code",
   "execution_count": 15,
   "metadata": {},
   "outputs": [
    {
     "name": "stdout",
     "output_type": "stream",
     "text": [
      "voices:\n",
      "id: HKEY_LOCAL_MACHINE\\SOFTWARE\\Microsoft\\Speech\\Voices\\Tokens\\TTS_MS_EN-US_DAVID_11.0\n",
      "languages: []\n",
      "name: Microsoft David Desktop - English (United States)\n",
      "age: None\n",
      "gender: None\n",
      "voices:\n",
      "id: HKEY_LOCAL_MACHINE\\SOFTWARE\\Microsoft\\Speech\\Voices\\Tokens\\TTS_MS_EN-US_ZIRA_11.0\n",
      "languages: []\n",
      "name: Microsoft Zira Desktop - English (United States)\n",
      "age: None\n",
      "gender: None\n"
     ]
    }
   ],
   "source": [
    "for voice in voices:\n",
    "    print('voices:')\n",
    "    print(\"id:\",voice.id)\n",
    "    print(\"languages:\",voice.languages)\n",
    "    print(\"name:\",voice.name)\n",
    "    print(\"age:\",voice.age)\n",
    "    print(\"gender:\",voice.gender)"
   ]
  },
  {
   "cell_type": "code",
   "execution_count": 27,
   "metadata": {},
   "outputs": [],
   "source": [
    "voiceid = voices[1].id"
   ]
  },
  {
   "cell_type": "code",
   "execution_count": 28,
   "metadata": {},
   "outputs": [],
   "source": [
    "spEng.setProperty('voice',voiceid)"
   ]
  },
  {
   "cell_type": "code",
   "execution_count": null,
   "metadata": {},
   "outputs": [],
   "source": []
  }
 ],
 "metadata": {
  "kernelspec": {
   "display_name": "base",
   "language": "python",
   "name": "python3"
  },
  "language_info": {
   "codemirror_mode": {
    "name": "ipython",
    "version": 3
   },
   "file_extension": ".py",
   "mimetype": "text/x-python",
   "name": "python",
   "nbconvert_exporter": "python",
   "pygments_lexer": "ipython3",
   "version": "3.9.13"
  },
  "orig_nbformat": 4
 },
 "nbformat": 4,
 "nbformat_minor": 2
}
